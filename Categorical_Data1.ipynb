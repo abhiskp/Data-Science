{
  "nbformat": 4,
  "nbformat_minor": 0,
  "metadata": {
    "colab": {
      "name": "Categorical Data1.ipynb",
      "provenance": [],
      "toc_visible": true,
      "authorship_tag": "ABX9TyOpe8oNirLYzGxzTSjwEQ0K",
      "include_colab_link": true
    },
    "kernelspec": {
      "name": "python3",
      "display_name": "Python 3"
    },
    "language_info": {
      "name": "python"
    }
  },
  "cells": [
    {
      "cell_type": "markdown",
      "metadata": {
        "id": "view-in-github",
        "colab_type": "text"
      },
      "source": [
        "<a href=\"https://colab.research.google.com/github/abhiskp/Data-Science/blob/main/Categorical_Data1.ipynb\" target=\"_parent\"><img src=\"https://colab.research.google.com/assets/colab-badge.svg\" alt=\"Open In Colab\"/></a>"
      ]
    },
    {
      "cell_type": "code",
      "metadata": {
        "id": "4cAZVnzrDkeB"
      },
      "source": [
        "import pandas as pd\n",
        "import numpy as np\n"
      ],
      "execution_count": 1,
      "outputs": []
    },
    {
      "cell_type": "markdown",
      "metadata": {
        "id": "wG-S5aruEUyq"
      },
      "source": [
        "# Pre-Processing "
      ]
    },
    {
      "cell_type": "code",
      "metadata": {
        "id": "4L_UwTIIETQQ"
      },
      "source": [
        "headers = [\"symboling\", \"normalized_losses\", \"make\", \"fuel_type\", \"aspiration\", \"num_doors\", \"body_style\", \"drive_wheels\", \n",
        "           \"engine_location\", \"wheel_base\", \"length\", \"width\", \"height\", \"curb_weight\", \"engine_type\", \"num_cylinders\", \"engine_size\",\n",
        "           \"fuel_system\", \"bore\", \"stroke\", \"compression_ratio\", \"horsepower\", \"peak_rpm\", \"city_mpg\", \"highway_mpg\", \"price\"]"
      ],
      "execution_count": 3,
      "outputs": []
    },
    {
      "cell_type": "code",
      "metadata": {
        "id": "7IZwkg9qEogD"
      },
      "source": [
        "df = pd.read_csv(\"https://archive.ics.uci.edu/ml/machine-learning-databases/autos/imports-85.data\", header=None, names=headers, na_values=\"?\")"
      ],
      "execution_count": 4,
      "outputs": []
    },
    {
      "cell_type": "code",
      "metadata": {
        "colab": {
          "base_uri": "https://localhost:8080/"
        },
        "id": "6quXg66PEvYW",
        "outputId": "0d02be20-7041-4716-99df-1bbd88544b6c"
      },
      "source": [
        "df.dtypes"
      ],
      "execution_count": 8,
      "outputs": [
        {
          "output_type": "execute_result",
          "data": {
            "text/plain": [
              "symboling              int64\n",
              "normalized_losses    float64\n",
              "make                  object\n",
              "fuel_type             object\n",
              "aspiration            object\n",
              "num_doors             object\n",
              "body_style            object\n",
              "drive_wheels          object\n",
              "engine_location       object\n",
              "wheel_base           float64\n",
              "length               float64\n",
              "width                float64\n",
              "height               float64\n",
              "curb_weight            int64\n",
              "engine_type           object\n",
              "num_cylinders         object\n",
              "engine_size            int64\n",
              "fuel_system           object\n",
              "bore                 float64\n",
              "stroke               float64\n",
              "compression_ratio    float64\n",
              "horsepower           float64\n",
              "peak_rpm             float64\n",
              "city_mpg               int64\n",
              "highway_mpg            int64\n",
              "price                float64\n",
              "dtype: object"
            ]
          },
          "metadata": {
            "tags": []
          },
          "execution_count": 8
        }
      ]
    },
    {
      "cell_type": "code",
      "metadata": {
        "colab": {
          "base_uri": "https://localhost:8080/",
          "height": 278
        },
        "id": "PtUzGLGlE5sh",
        "outputId": "2affdbcd-072d-4a4e-d9f7-d973ee0d21e3"
      },
      "source": [
        "obj_df = df.select_dtypes(include=['object']).copy()\n",
        "obj_df.head()"
      ],
      "execution_count": 10,
      "outputs": [
        {
          "output_type": "execute_result",
          "data": {
            "text/html": [
              "<div>\n",
              "<style scoped>\n",
              "    .dataframe tbody tr th:only-of-type {\n",
              "        vertical-align: middle;\n",
              "    }\n",
              "\n",
              "    .dataframe tbody tr th {\n",
              "        vertical-align: top;\n",
              "    }\n",
              "\n",
              "    .dataframe thead th {\n",
              "        text-align: right;\n",
              "    }\n",
              "</style>\n",
              "<table border=\"1\" class=\"dataframe\">\n",
              "  <thead>\n",
              "    <tr style=\"text-align: right;\">\n",
              "      <th></th>\n",
              "      <th>make</th>\n",
              "      <th>fuel_type</th>\n",
              "      <th>aspiration</th>\n",
              "      <th>num_doors</th>\n",
              "      <th>body_style</th>\n",
              "      <th>drive_wheels</th>\n",
              "      <th>engine_location</th>\n",
              "      <th>engine_type</th>\n",
              "      <th>num_cylinders</th>\n",
              "      <th>fuel_system</th>\n",
              "    </tr>\n",
              "  </thead>\n",
              "  <tbody>\n",
              "    <tr>\n",
              "      <th>0</th>\n",
              "      <td>alfa-romero</td>\n",
              "      <td>gas</td>\n",
              "      <td>std</td>\n",
              "      <td>two</td>\n",
              "      <td>convertible</td>\n",
              "      <td>rwd</td>\n",
              "      <td>front</td>\n",
              "      <td>dohc</td>\n",
              "      <td>four</td>\n",
              "      <td>mpfi</td>\n",
              "    </tr>\n",
              "    <tr>\n",
              "      <th>1</th>\n",
              "      <td>alfa-romero</td>\n",
              "      <td>gas</td>\n",
              "      <td>std</td>\n",
              "      <td>two</td>\n",
              "      <td>convertible</td>\n",
              "      <td>rwd</td>\n",
              "      <td>front</td>\n",
              "      <td>dohc</td>\n",
              "      <td>four</td>\n",
              "      <td>mpfi</td>\n",
              "    </tr>\n",
              "    <tr>\n",
              "      <th>2</th>\n",
              "      <td>alfa-romero</td>\n",
              "      <td>gas</td>\n",
              "      <td>std</td>\n",
              "      <td>two</td>\n",
              "      <td>hatchback</td>\n",
              "      <td>rwd</td>\n",
              "      <td>front</td>\n",
              "      <td>ohcv</td>\n",
              "      <td>six</td>\n",
              "      <td>mpfi</td>\n",
              "    </tr>\n",
              "    <tr>\n",
              "      <th>3</th>\n",
              "      <td>audi</td>\n",
              "      <td>gas</td>\n",
              "      <td>std</td>\n",
              "      <td>four</td>\n",
              "      <td>sedan</td>\n",
              "      <td>fwd</td>\n",
              "      <td>front</td>\n",
              "      <td>ohc</td>\n",
              "      <td>four</td>\n",
              "      <td>mpfi</td>\n",
              "    </tr>\n",
              "    <tr>\n",
              "      <th>4</th>\n",
              "      <td>audi</td>\n",
              "      <td>gas</td>\n",
              "      <td>std</td>\n",
              "      <td>four</td>\n",
              "      <td>sedan</td>\n",
              "      <td>4wd</td>\n",
              "      <td>front</td>\n",
              "      <td>ohc</td>\n",
              "      <td>five</td>\n",
              "      <td>mpfi</td>\n",
              "    </tr>\n",
              "  </tbody>\n",
              "</table>\n",
              "</div>"
            ],
            "text/plain": [
              "          make fuel_type aspiration  ... engine_type num_cylinders fuel_system\n",
              "0  alfa-romero       gas        std  ...        dohc          four        mpfi\n",
              "1  alfa-romero       gas        std  ...        dohc          four        mpfi\n",
              "2  alfa-romero       gas        std  ...        ohcv           six        mpfi\n",
              "3         audi       gas        std  ...         ohc          four        mpfi\n",
              "4         audi       gas        std  ...         ohc          five        mpfi\n",
              "\n",
              "[5 rows x 10 columns]"
            ]
          },
          "metadata": {
            "tags": []
          },
          "execution_count": 10
        }
      ]
    },
    {
      "cell_type": "code",
      "metadata": {
        "colab": {
          "base_uri": "https://localhost:8080/",
          "height": 132
        },
        "id": "4gzzqrntFGpW",
        "outputId": "779e02b1-61ca-45bc-ccde-409f46475ee8"
      },
      "source": [
        "obj_df[obj_df.isnull().any(axis=1)]"
      ],
      "execution_count": 11,
      "outputs": [
        {
          "output_type": "execute_result",
          "data": {
            "text/html": [
              "<div>\n",
              "<style scoped>\n",
              "    .dataframe tbody tr th:only-of-type {\n",
              "        vertical-align: middle;\n",
              "    }\n",
              "\n",
              "    .dataframe tbody tr th {\n",
              "        vertical-align: top;\n",
              "    }\n",
              "\n",
              "    .dataframe thead th {\n",
              "        text-align: right;\n",
              "    }\n",
              "</style>\n",
              "<table border=\"1\" class=\"dataframe\">\n",
              "  <thead>\n",
              "    <tr style=\"text-align: right;\">\n",
              "      <th></th>\n",
              "      <th>make</th>\n",
              "      <th>fuel_type</th>\n",
              "      <th>aspiration</th>\n",
              "      <th>num_doors</th>\n",
              "      <th>body_style</th>\n",
              "      <th>drive_wheels</th>\n",
              "      <th>engine_location</th>\n",
              "      <th>engine_type</th>\n",
              "      <th>num_cylinders</th>\n",
              "      <th>fuel_system</th>\n",
              "    </tr>\n",
              "  </thead>\n",
              "  <tbody>\n",
              "    <tr>\n",
              "      <th>27</th>\n",
              "      <td>dodge</td>\n",
              "      <td>gas</td>\n",
              "      <td>turbo</td>\n",
              "      <td>NaN</td>\n",
              "      <td>sedan</td>\n",
              "      <td>fwd</td>\n",
              "      <td>front</td>\n",
              "      <td>ohc</td>\n",
              "      <td>four</td>\n",
              "      <td>mpfi</td>\n",
              "    </tr>\n",
              "    <tr>\n",
              "      <th>63</th>\n",
              "      <td>mazda</td>\n",
              "      <td>diesel</td>\n",
              "      <td>std</td>\n",
              "      <td>NaN</td>\n",
              "      <td>sedan</td>\n",
              "      <td>fwd</td>\n",
              "      <td>front</td>\n",
              "      <td>ohc</td>\n",
              "      <td>four</td>\n",
              "      <td>idi</td>\n",
              "    </tr>\n",
              "  </tbody>\n",
              "</table>\n",
              "</div>"
            ],
            "text/plain": [
              "     make fuel_type aspiration  ... engine_type num_cylinders fuel_system\n",
              "27  dodge       gas      turbo  ...         ohc          four        mpfi\n",
              "63  mazda    diesel        std  ...         ohc          four         idi\n",
              "\n",
              "[2 rows x 10 columns]"
            ]
          },
          "metadata": {
            "tags": []
          },
          "execution_count": 11
        }
      ]
    },
    {
      "cell_type": "code",
      "metadata": {
        "colab": {
          "base_uri": "https://localhost:8080/"
        },
        "id": "F31ETSI4FUrX",
        "outputId": "5fcb5db4-f2ad-46bc-d563-22adc05f0d85"
      },
      "source": [
        "obj_df[\"num_doors\"].value_counts()"
      ],
      "execution_count": 12,
      "outputs": [
        {
          "output_type": "execute_result",
          "data": {
            "text/plain": [
              "four    114\n",
              "two      89\n",
              "Name: num_doors, dtype: int64"
            ]
          },
          "metadata": {
            "tags": []
          },
          "execution_count": 12
        }
      ]
    },
    {
      "cell_type": "code",
      "metadata": {
        "id": "2y42j4IkFeCd"
      },
      "source": [
        "obj_df=obj_df.fillna({\"num_doors\" : \"four\"})"
      ],
      "execution_count": 13,
      "outputs": []
    },
    {
      "cell_type": "markdown",
      "metadata": {
        "id": "Vbd9Can5FoOF"
      },
      "source": [
        "# Find and Replace"
      ]
    },
    {
      "cell_type": "code",
      "metadata": {
        "colab": {
          "base_uri": "https://localhost:8080/"
        },
        "id": "-p0_GaINFmQD",
        "outputId": "0a3fccb9-ee5b-4148-f0e3-e5b350ae382b"
      },
      "source": [
        "obj_df[\"num_cylinders\"].value_counts()"
      ],
      "execution_count": 14,
      "outputs": [
        {
          "output_type": "execute_result",
          "data": {
            "text/plain": [
              "four      159\n",
              "six        24\n",
              "five       11\n",
              "eight       5\n",
              "two         4\n",
              "twelve      1\n",
              "three       1\n",
              "Name: num_cylinders, dtype: int64"
            ]
          },
          "metadata": {
            "tags": []
          },
          "execution_count": 14
        }
      ]
    },
    {
      "cell_type": "code",
      "metadata": {
        "id": "zCQPSYJOFx_J"
      },
      "source": [
        "cleanup_nums = {\"num_doors\": {\"four\": 4, \"two\": 2}, \n",
        "                \"num_cylinders\": {\"four\": 4, \"six\": 6, \"five\": 5, \n",
        "                                  \"eight\": 8, \"two\": 2, \"twelve\": 12, \"three\":3 }}"
      ],
      "execution_count": 16,
      "outputs": []
    },
    {
      "cell_type": "code",
      "metadata": {
        "id": "V8BmsFy_F1Ua"
      },
      "source": [
        "obj_df.replace(cleanup_nums, inplace=True)"
      ],
      "execution_count": 18,
      "outputs": []
    },
    {
      "cell_type": "code",
      "metadata": {
        "colab": {
          "base_uri": "https://localhost:8080/"
        },
        "id": "4y21NmyBGILO",
        "outputId": "d889a0c5-2f1e-4ef3-d6f8-a2267e538c21"
      },
      "source": [
        "df.dtypes"
      ],
      "execution_count": 19,
      "outputs": [
        {
          "output_type": "execute_result",
          "data": {
            "text/plain": [
              "symboling              int64\n",
              "normalized_losses    float64\n",
              "make                  object\n",
              "fuel_type             object\n",
              "aspiration            object\n",
              "num_doors             object\n",
              "body_style            object\n",
              "drive_wheels          object\n",
              "engine_location       object\n",
              "wheel_base           float64\n",
              "length               float64\n",
              "width                float64\n",
              "height               float64\n",
              "curb_weight            int64\n",
              "engine_type           object\n",
              "num_cylinders         object\n",
              "engine_size            int64\n",
              "fuel_system           object\n",
              "bore                 float64\n",
              "stroke               float64\n",
              "compression_ratio    float64\n",
              "horsepower           float64\n",
              "peak_rpm             float64\n",
              "city_mpg               int64\n",
              "highway_mpg            int64\n",
              "price                float64\n",
              "dtype: object"
            ]
          },
          "metadata": {
            "tags": []
          },
          "execution_count": 19
        }
      ]
    },
    {
      "cell_type": "code",
      "metadata": {
        "id": "G2IIvEtCGVju"
      },
      "source": [
        ""
      ],
      "execution_count": null,
      "outputs": []
    },
    {
      "cell_type": "markdown",
      "metadata": {
        "id": "GM-S-RVlGoLn"
      },
      "source": [
        "# Label Encoding"
      ]
    },
    {
      "cell_type": "markdown",
      "metadata": {
        "id": "IgjJ0DRGGsek"
      },
      "source": [
        "To convert each value un a colpummn to a number."
      ]
    },
    {
      "cell_type": "code",
      "metadata": {
        "colab": {
          "base_uri": "https://localhost:8080/"
        },
        "id": "dIUcxWh6G1YW",
        "outputId": "7c96e58f-f32d-441d-a232-6215ac0a5e46"
      },
      "source": [
        "\n",
        "\n",
        "obj_df['body_style'] = obj_df['body_style'].astype('category')\n",
        "obj_df.dtypes\n",
        "\n"
      ],
      "execution_count": 20,
      "outputs": [
        {
          "output_type": "execute_result",
          "data": {
            "text/plain": [
              "make                 object\n",
              "fuel_type            object\n",
              "aspiration           object\n",
              "num_doors             int64\n",
              "body_style         category\n",
              "drive_wheels         object\n",
              "engine_location      object\n",
              "engine_type          object\n",
              "num_cylinders         int64\n",
              "fuel_system          object\n",
              "dtype: object"
            ]
          },
          "metadata": {
            "tags": []
          },
          "execution_count": 20
        }
      ]
    },
    {
      "cell_type": "code",
      "metadata": {
        "colab": {
          "base_uri": "https://localhost:8080/",
          "height": 278
        },
        "id": "lUpz5PJ9G5mu",
        "outputId": "1c833cd8-e4df-40e6-f9d8-45d9f303644e"
      },
      "source": [
        "obj_df['body_style_cat'] = obj_df['body_style'].cat.codes\n",
        "obj_df.head()"
      ],
      "execution_count": 21,
      "outputs": [
        {
          "output_type": "execute_result",
          "data": {
            "text/html": [
              "<div>\n",
              "<style scoped>\n",
              "    .dataframe tbody tr th:only-of-type {\n",
              "        vertical-align: middle;\n",
              "    }\n",
              "\n",
              "    .dataframe tbody tr th {\n",
              "        vertical-align: top;\n",
              "    }\n",
              "\n",
              "    .dataframe thead th {\n",
              "        text-align: right;\n",
              "    }\n",
              "</style>\n",
              "<table border=\"1\" class=\"dataframe\">\n",
              "  <thead>\n",
              "    <tr style=\"text-align: right;\">\n",
              "      <th></th>\n",
              "      <th>make</th>\n",
              "      <th>fuel_type</th>\n",
              "      <th>aspiration</th>\n",
              "      <th>num_doors</th>\n",
              "      <th>body_style</th>\n",
              "      <th>drive_wheels</th>\n",
              "      <th>engine_location</th>\n",
              "      <th>engine_type</th>\n",
              "      <th>num_cylinders</th>\n",
              "      <th>fuel_system</th>\n",
              "      <th>body_style_cat</th>\n",
              "    </tr>\n",
              "  </thead>\n",
              "  <tbody>\n",
              "    <tr>\n",
              "      <th>0</th>\n",
              "      <td>alfa-romero</td>\n",
              "      <td>gas</td>\n",
              "      <td>std</td>\n",
              "      <td>2</td>\n",
              "      <td>convertible</td>\n",
              "      <td>rwd</td>\n",
              "      <td>front</td>\n",
              "      <td>dohc</td>\n",
              "      <td>4</td>\n",
              "      <td>mpfi</td>\n",
              "      <td>0</td>\n",
              "    </tr>\n",
              "    <tr>\n",
              "      <th>1</th>\n",
              "      <td>alfa-romero</td>\n",
              "      <td>gas</td>\n",
              "      <td>std</td>\n",
              "      <td>2</td>\n",
              "      <td>convertible</td>\n",
              "      <td>rwd</td>\n",
              "      <td>front</td>\n",
              "      <td>dohc</td>\n",
              "      <td>4</td>\n",
              "      <td>mpfi</td>\n",
              "      <td>0</td>\n",
              "    </tr>\n",
              "    <tr>\n",
              "      <th>2</th>\n",
              "      <td>alfa-romero</td>\n",
              "      <td>gas</td>\n",
              "      <td>std</td>\n",
              "      <td>2</td>\n",
              "      <td>hatchback</td>\n",
              "      <td>rwd</td>\n",
              "      <td>front</td>\n",
              "      <td>ohcv</td>\n",
              "      <td>6</td>\n",
              "      <td>mpfi</td>\n",
              "      <td>2</td>\n",
              "    </tr>\n",
              "    <tr>\n",
              "      <th>3</th>\n",
              "      <td>audi</td>\n",
              "      <td>gas</td>\n",
              "      <td>std</td>\n",
              "      <td>4</td>\n",
              "      <td>sedan</td>\n",
              "      <td>fwd</td>\n",
              "      <td>front</td>\n",
              "      <td>ohc</td>\n",
              "      <td>4</td>\n",
              "      <td>mpfi</td>\n",
              "      <td>3</td>\n",
              "    </tr>\n",
              "    <tr>\n",
              "      <th>4</th>\n",
              "      <td>audi</td>\n",
              "      <td>gas</td>\n",
              "      <td>std</td>\n",
              "      <td>4</td>\n",
              "      <td>sedan</td>\n",
              "      <td>4wd</td>\n",
              "      <td>front</td>\n",
              "      <td>ohc</td>\n",
              "      <td>5</td>\n",
              "      <td>mpfi</td>\n",
              "      <td>3</td>\n",
              "    </tr>\n",
              "  </tbody>\n",
              "</table>\n",
              "</div>"
            ],
            "text/plain": [
              "          make fuel_type aspiration  ...  num_cylinders fuel_system body_style_cat\n",
              "0  alfa-romero       gas        std  ...              4        mpfi              0\n",
              "1  alfa-romero       gas        std  ...              4        mpfi              0\n",
              "2  alfa-romero       gas        std  ...              6        mpfi              2\n",
              "3         audi       gas        std  ...              4        mpfi              3\n",
              "4         audi       gas        std  ...              5        mpfi              3\n",
              "\n",
              "[5 rows x 11 columns]"
            ]
          },
          "metadata": {
            "tags": []
          },
          "execution_count": 21
        }
      ]
    },
    {
      "cell_type": "code",
      "metadata": {
        "id": "0WAM2kLDG86x"
      },
      "source": [
        ""
      ],
      "execution_count": null,
      "outputs": []
    },
    {
      "cell_type": "markdown",
      "metadata": {
        "id": "C4wqmqc2HCK-"
      },
      "source": [
        "# One Hot Encoding\n"
      ]
    },
    {
      "cell_type": "code",
      "metadata": {
        "colab": {
          "base_uri": "https://localhost:8080/",
          "height": 278
        },
        "id": "cgyJmtDkHHt2",
        "outputId": "fab46aef-80b6-473a-f7d2-e0050e063750"
      },
      "source": [
        "pd.get_dummies(obj_df, columns=['drive_wheels']).head()"
      ],
      "execution_count": 22,
      "outputs": [
        {
          "output_type": "execute_result",
          "data": {
            "text/html": [
              "<div>\n",
              "<style scoped>\n",
              "    .dataframe tbody tr th:only-of-type {\n",
              "        vertical-align: middle;\n",
              "    }\n",
              "\n",
              "    .dataframe tbody tr th {\n",
              "        vertical-align: top;\n",
              "    }\n",
              "\n",
              "    .dataframe thead th {\n",
              "        text-align: right;\n",
              "    }\n",
              "</style>\n",
              "<table border=\"1\" class=\"dataframe\">\n",
              "  <thead>\n",
              "    <tr style=\"text-align: right;\">\n",
              "      <th></th>\n",
              "      <th>make</th>\n",
              "      <th>fuel_type</th>\n",
              "      <th>aspiration</th>\n",
              "      <th>num_doors</th>\n",
              "      <th>body_style</th>\n",
              "      <th>engine_location</th>\n",
              "      <th>engine_type</th>\n",
              "      <th>num_cylinders</th>\n",
              "      <th>fuel_system</th>\n",
              "      <th>body_style_cat</th>\n",
              "      <th>drive_wheels_4wd</th>\n",
              "      <th>drive_wheels_fwd</th>\n",
              "      <th>drive_wheels_rwd</th>\n",
              "    </tr>\n",
              "  </thead>\n",
              "  <tbody>\n",
              "    <tr>\n",
              "      <th>0</th>\n",
              "      <td>alfa-romero</td>\n",
              "      <td>gas</td>\n",
              "      <td>std</td>\n",
              "      <td>2</td>\n",
              "      <td>convertible</td>\n",
              "      <td>front</td>\n",
              "      <td>dohc</td>\n",
              "      <td>4</td>\n",
              "      <td>mpfi</td>\n",
              "      <td>0</td>\n",
              "      <td>0</td>\n",
              "      <td>0</td>\n",
              "      <td>1</td>\n",
              "    </tr>\n",
              "    <tr>\n",
              "      <th>1</th>\n",
              "      <td>alfa-romero</td>\n",
              "      <td>gas</td>\n",
              "      <td>std</td>\n",
              "      <td>2</td>\n",
              "      <td>convertible</td>\n",
              "      <td>front</td>\n",
              "      <td>dohc</td>\n",
              "      <td>4</td>\n",
              "      <td>mpfi</td>\n",
              "      <td>0</td>\n",
              "      <td>0</td>\n",
              "      <td>0</td>\n",
              "      <td>1</td>\n",
              "    </tr>\n",
              "    <tr>\n",
              "      <th>2</th>\n",
              "      <td>alfa-romero</td>\n",
              "      <td>gas</td>\n",
              "      <td>std</td>\n",
              "      <td>2</td>\n",
              "      <td>hatchback</td>\n",
              "      <td>front</td>\n",
              "      <td>ohcv</td>\n",
              "      <td>6</td>\n",
              "      <td>mpfi</td>\n",
              "      <td>2</td>\n",
              "      <td>0</td>\n",
              "      <td>0</td>\n",
              "      <td>1</td>\n",
              "    </tr>\n",
              "    <tr>\n",
              "      <th>3</th>\n",
              "      <td>audi</td>\n",
              "      <td>gas</td>\n",
              "      <td>std</td>\n",
              "      <td>4</td>\n",
              "      <td>sedan</td>\n",
              "      <td>front</td>\n",
              "      <td>ohc</td>\n",
              "      <td>4</td>\n",
              "      <td>mpfi</td>\n",
              "      <td>3</td>\n",
              "      <td>0</td>\n",
              "      <td>1</td>\n",
              "      <td>0</td>\n",
              "    </tr>\n",
              "    <tr>\n",
              "      <th>4</th>\n",
              "      <td>audi</td>\n",
              "      <td>gas</td>\n",
              "      <td>std</td>\n",
              "      <td>4</td>\n",
              "      <td>sedan</td>\n",
              "      <td>front</td>\n",
              "      <td>ohc</td>\n",
              "      <td>5</td>\n",
              "      <td>mpfi</td>\n",
              "      <td>3</td>\n",
              "      <td>1</td>\n",
              "      <td>0</td>\n",
              "      <td>0</td>\n",
              "    </tr>\n",
              "  </tbody>\n",
              "</table>\n",
              "</div>"
            ],
            "text/plain": [
              "          make fuel_type  ... drive_wheels_fwd  drive_wheels_rwd\n",
              "0  alfa-romero       gas  ...                0                 1\n",
              "1  alfa-romero       gas  ...                0                 1\n",
              "2  alfa-romero       gas  ...                0                 1\n",
              "3         audi       gas  ...                1                 0\n",
              "4         audi       gas  ...                0                 0\n",
              "\n",
              "[5 rows x 13 columns]"
            ]
          },
          "metadata": {
            "tags": []
          },
          "execution_count": 22
        }
      ]
    },
    {
      "cell_type": "code",
      "metadata": {
        "id": "zSlnEj-6HJs1"
      },
      "source": [
        ""
      ],
      "execution_count": null,
      "outputs": []
    },
    {
      "cell_type": "markdown",
      "metadata": {
        "id": "wIXplnSkHMcz"
      },
      "source": [
        "# Using Scikit-Learn"
      ]
    },
    {
      "cell_type": "code",
      "metadata": {
        "id": "tK_c1ibeHR2Z"
      },
      "source": [
        "from sklearn.preprocessing import LabelEncoder"
      ],
      "execution_count": 23,
      "outputs": []
    },
    {
      "cell_type": "code",
      "metadata": {
        "colab": {
          "base_uri": "https://localhost:8080/",
          "height": 206
        },
        "id": "xiQoTWGyHYI5",
        "outputId": "57ec66f2-bb71-4663-8d99-bf0f85cffd1e"
      },
      "source": [
        "lb_make = LabelEncoder()\n",
        "obj_df['make_code'] = lb_make.fit_transform(obj_df['make'])\n",
        "obj_df[['make', 'make_code']].head()"
      ],
      "execution_count": 24,
      "outputs": [
        {
          "output_type": "execute_result",
          "data": {
            "text/html": [
              "<div>\n",
              "<style scoped>\n",
              "    .dataframe tbody tr th:only-of-type {\n",
              "        vertical-align: middle;\n",
              "    }\n",
              "\n",
              "    .dataframe tbody tr th {\n",
              "        vertical-align: top;\n",
              "    }\n",
              "\n",
              "    .dataframe thead th {\n",
              "        text-align: right;\n",
              "    }\n",
              "</style>\n",
              "<table border=\"1\" class=\"dataframe\">\n",
              "  <thead>\n",
              "    <tr style=\"text-align: right;\">\n",
              "      <th></th>\n",
              "      <th>make</th>\n",
              "      <th>make_code</th>\n",
              "    </tr>\n",
              "  </thead>\n",
              "  <tbody>\n",
              "    <tr>\n",
              "      <th>0</th>\n",
              "      <td>alfa-romero</td>\n",
              "      <td>0</td>\n",
              "    </tr>\n",
              "    <tr>\n",
              "      <th>1</th>\n",
              "      <td>alfa-romero</td>\n",
              "      <td>0</td>\n",
              "    </tr>\n",
              "    <tr>\n",
              "      <th>2</th>\n",
              "      <td>alfa-romero</td>\n",
              "      <td>0</td>\n",
              "    </tr>\n",
              "    <tr>\n",
              "      <th>3</th>\n",
              "      <td>audi</td>\n",
              "      <td>1</td>\n",
              "    </tr>\n",
              "    <tr>\n",
              "      <th>4</th>\n",
              "      <td>audi</td>\n",
              "      <td>1</td>\n",
              "    </tr>\n",
              "  </tbody>\n",
              "</table>\n",
              "</div>"
            ],
            "text/plain": [
              "          make  make_code\n",
              "0  alfa-romero          0\n",
              "1  alfa-romero          0\n",
              "2  alfa-romero          0\n",
              "3         audi          1\n",
              "4         audi          1"
            ]
          },
          "metadata": {
            "tags": []
          },
          "execution_count": 24
        }
      ]
    },
    {
      "cell_type": "code",
      "metadata": {
        "id": "okfCbS0YHb4f"
      },
      "source": [
        "from sklearn.preprocessing import LabelBinarizer"
      ],
      "execution_count": 25,
      "outputs": []
    },
    {
      "cell_type": "code",
      "metadata": {
        "colab": {
          "base_uri": "https://localhost:8080/",
          "height": 206
        },
        "id": "aqU_TCL_Heg-",
        "outputId": "7caa4619-a5eb-4c21-b092-c79d6ff42033"
      },
      "source": [
        "lb_style = LabelBinarizer()\n",
        "lb_results = lb_style.fit_transform(obj_df['body_style'])\n",
        "pd.DataFrame(lb_results, columns=lb_style.classes_).head()"
      ],
      "execution_count": 26,
      "outputs": [
        {
          "output_type": "execute_result",
          "data": {
            "text/html": [
              "<div>\n",
              "<style scoped>\n",
              "    .dataframe tbody tr th:only-of-type {\n",
              "        vertical-align: middle;\n",
              "    }\n",
              "\n",
              "    .dataframe tbody tr th {\n",
              "        vertical-align: top;\n",
              "    }\n",
              "\n",
              "    .dataframe thead th {\n",
              "        text-align: right;\n",
              "    }\n",
              "</style>\n",
              "<table border=\"1\" class=\"dataframe\">\n",
              "  <thead>\n",
              "    <tr style=\"text-align: right;\">\n",
              "      <th></th>\n",
              "      <th>convertible</th>\n",
              "      <th>hardtop</th>\n",
              "      <th>hatchback</th>\n",
              "      <th>sedan</th>\n",
              "      <th>wagon</th>\n",
              "    </tr>\n",
              "  </thead>\n",
              "  <tbody>\n",
              "    <tr>\n",
              "      <th>0</th>\n",
              "      <td>1</td>\n",
              "      <td>0</td>\n",
              "      <td>0</td>\n",
              "      <td>0</td>\n",
              "      <td>0</td>\n",
              "    </tr>\n",
              "    <tr>\n",
              "      <th>1</th>\n",
              "      <td>1</td>\n",
              "      <td>0</td>\n",
              "      <td>0</td>\n",
              "      <td>0</td>\n",
              "      <td>0</td>\n",
              "    </tr>\n",
              "    <tr>\n",
              "      <th>2</th>\n",
              "      <td>0</td>\n",
              "      <td>0</td>\n",
              "      <td>1</td>\n",
              "      <td>0</td>\n",
              "      <td>0</td>\n",
              "    </tr>\n",
              "    <tr>\n",
              "      <th>3</th>\n",
              "      <td>0</td>\n",
              "      <td>0</td>\n",
              "      <td>0</td>\n",
              "      <td>1</td>\n",
              "      <td>0</td>\n",
              "    </tr>\n",
              "    <tr>\n",
              "      <th>4</th>\n",
              "      <td>0</td>\n",
              "      <td>0</td>\n",
              "      <td>0</td>\n",
              "      <td>1</td>\n",
              "      <td>0</td>\n",
              "    </tr>\n",
              "  </tbody>\n",
              "</table>\n",
              "</div>"
            ],
            "text/plain": [
              "   convertible  hardtop  hatchback  sedan  wagon\n",
              "0            1        0          0      0      0\n",
              "1            1        0          0      0      0\n",
              "2            0        0          1      0      0\n",
              "3            0        0          0      1      0\n",
              "4            0        0          0      1      0"
            ]
          },
          "metadata": {
            "tags": []
          },
          "execution_count": 26
        }
      ]
    },
    {
      "cell_type": "code",
      "metadata": {
        "id": "yGQbzGi9HiPh"
      },
      "source": [
        ""
      ],
      "execution_count": null,
      "outputs": []
    }
  ]
}